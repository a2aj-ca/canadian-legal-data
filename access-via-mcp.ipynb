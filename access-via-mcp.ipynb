{
 "cells": [
  {
   "cell_type": "markdown",
   "id": "9456654a",
   "metadata": {},
   "source": [
    "# A2AJ Canadian Legal Data via MCP\n",
    "\n",
    "Do you want to give AI agents access to the A2AJ's Canadian Legal Data, so that agents can look up or search case law, legislation or regulations? The A2AJ now has an MCP (Model Context Protocol) server, providing a standardized way for AI assistants and applications to access Canadian legal data. This notebook demonstrates how to connect to and use the A2AJ MCP server through both web interfaces and programmatically.\n",
    "\n",
    "Access the A2AJ MCP: https://api.a2aj.ca/mcp\n",
    "\n",
    "Documentation about MCPs: https://www.anthropic.com/news/model-context-protocol\n",
    "\n",
    "#### What is MCP?\n",
    "\n",
    "MCP (Model Context Protocol) is an open protocol that standardizes how AI assistants connect to external data sources and tools. Think of it as a universal adapter that allows different AI systems to plug into the same data sources using a consistent interface.\n",
    "\n",
    "Instead of each AI platform requiring custom integrations, MCP provides:\n",
    "\n",
    "- Standardized communication: Any MCP-compatible system can connect to any MCP server\n",
    "- Tool discovery: AI systems can automatically understand what functions are available\n",
    "- Type safety: Clear parameter definitions and return types\n",
    "- Stateless operation: Each request is independent, making systems more reliable\n",
    "- Resiliance: When hosts make changes to APIs, it can break tools that rely on access to those APIs, \n",
    "whereas changes made to MCPs can be automatically integrated\n",
    "\n",
    "Although there are many advantages to MCPs, they do also have some disadvantages. For simple tasks, \n",
    "programmatic access via APIs may be easier. Moreover, MCPs are a new technology that is undergoing\n",
    "rapid development, which comes with risks.\n",
    "\n",
    "#### How MCPs are accessed\n",
    "\n",
    "For non-technical users, the easiest way to connect an AI assistant with an MCP is through the AI assistant's web interface or desktop application. For example, users with paid accounts with OpenAI can connect ChatGPT to the A2AJ MCP, and users with paid accounts with Anthropic can connect Claude to an MCP. After connceting to the A2AJ MCP, the AI assistant will be able to access A2AJ Canadian Legal Data, which will allow the AI assistant to do things like get the full text of court cases or run text searches on legislation.\n",
    "\n",
    "For more technical users, MCPs can be access programmatically. Several of the leading AI providers have integrated MCPs into their APIs.\n",
    "\n",
    "#### What This Notebook Covers\n",
    "\n",
    "This notebook will demonstrate two ways to use the A2AJ MCP server:\n",
    "\n",
    "- Programmatic Access: How to interact with MCP servers directly from Python code, using OpenAI's responses API as an example\n",
    "- AI Interface Access: How to add the A2AJ MCP connector to AI assistants, using Anthropic's Claude as an example\n",
    "\n",
    "Important note: This A2AJ MCP is designed for searching and retrieving small numbers of documents. If you need to access bulk data for large-scale analysis, consider downloading the Hugging Face dataset or parquet files instead, as described in the accompanying notebooks.\n",
    "\n",
    "Another Important Note: AI agents can hallucinate or can make mistakes, including when connected to data sources like the A2AJ's Canadian Legal Data. Always double check important data."
   ]
  },
  {
   "cell_type": "markdown",
   "id": "d6113ed2",
   "metadata": {},
   "source": [
    "## (1) Programmatic Access Example: OpenAI's Responses API\n",
    "\n",
    "Documentation here:https://platform.openai.com/docs/guides/tools-remote-mcp "
   ]
  },
  {
   "cell_type": "code",
   "execution_count": 1,
   "id": "7ba00fb4",
   "metadata": {},
   "outputs": [
    {
     "name": "stdout",
     "output_type": "stream",
     "text": [
      "Latest CHRT decision involving racial discrimination: 2025 CHRT 64 (Chow v. The Toronto-Dominion Bank), June 24, 2025.\n",
      "\n",
      "- Context: Mr. Chow alleges adverse differential treatment on the grounds of race, colour, national or ethnic origin (and age) after a TD branch employee asked extra identity‑verification questions despite a successful PIN entry.\n",
      "- Ruling type: Disclosure motion (not a merits decision).\n",
      "- Key orders: Tribunal ordered TD to disclose (1) its in-branch “Authenticate Customer – Personal” policy in force in January 2019, and (2) certain communications/records related to TD’s follow-up on the incident and documents previously sent to the Commission. An implied undertaking of confidentiality applies, and Mr. Chow must return/destroy the policy after the case concludes.\n",
      "- Denied requests: Broad anti‑fraud/security policies, province‑wide fraud lists, and other expansive/document‑creation requests were refused as not arguably relevant or disproportionate “fishing expeditions.” \n",
      "- Other: TD must update its document list. No costs awarded (Tribunal lacks authority to award costs).\n"
     ]
    }
   ],
   "source": [
    "#!pip install --upgrade openai\n",
    "#!pip install python-dotenv\n",
    "\n",
    "# store OPENAI_API_KEY in .env file\n",
    "\n",
    "from dotenv import load_dotenv\n",
    "from openai import OpenAI\n",
    "\n",
    "load_dotenv()\n",
    "client = OpenAI()\n",
    "\n",
    "user_query = \"\"\"Briefly summarize the latest Canadian Human Rights Tribunal decision involving racial discrimination.\n",
    "Notes: \n",
    "- Today's date is 2025-08-08.\n",
    "- Read the full decision before answering the question.\n",
    "- You can make multiple calls to get the full text.\"\"\"\n",
    "\n",
    "response = client.responses.create(\n",
    "  model=\"gpt-5\",\n",
    "  input=user_query, \n",
    "  tools=[\n",
    "    { \"type\": \"mcp\",\n",
    "      \"server_label\": \"a2aj\",\n",
    "      \"server_url\": \"https://api.a2aj.ca/mcp\",\n",
    "      \"require_approval\": \"never\",\n",
    "    }\n",
    "  ]\n",
    ")\n",
    "print(response.output_text)"
   ]
  },
  {
   "cell_type": "markdown",
   "id": "08fe714f",
   "metadata": {},
   "source": [
    "## (2) AI Interface Example: Connect Anthropic's Claude\n",
    "\n",
    "Documentation here: https://support.anthropic.com/en/articles/10168395-setting-up-claude-integrations"
   ]
  },
  {
   "cell_type": "markdown",
   "id": "2d12833e",
   "metadata": {},
   "source": [
    "As of August 2025, to connect Anthropic's Claude with the A2AJ MCP, you will need a paid Anthropic account (Pro, Max, Team, or Enterprise).\n",
    "\n",
    "#### Required Steps\n",
    "\n",
    "- In your browser, navigate to https://claude.ai and sign in if you are not already signed in.\n",
    "- At the bottom of the chat box click on the \"search and tools\" icon\n",
    "- Select \"Manage connectors\"\n",
    "- Select \"Add custom connector\"\n",
    "- In \"Name\", indicate \"A2AJ\"\n",
    "- In \"Remote MCP server URL\", indicate: \"https://api.a2aj.ca/mcp\"\n",
    "- Click \"Add\"\n",
    "- The A2AJ custom connector should now be available. Return to a new chat, and ask a question about Canadian case law or legislation/reguations\n",
    "\n",
    "#### Optional steps to authorize access to A2AJ MCP without further permissions:\n",
    "\n",
    "- Return to \"Manage connectors\"\n",
    "- Click on the 3 dots next to the A2AJ Custom Connector\n",
    "- Select \"Tools and settings\"\n",
    "- For each of the tools for which you want automatic access, select \"Allow unsupervised\"\n",
    "\n",
    "#### Optional steps to enhance Claude responses using A2AJ MCP\n",
    "\n",
    "- Return to new chat. \n",
    "- Select the \"Tools and Search\" icon\n",
    "- Turn on \"Extended thinking\"\n",
    "- Return to new chat.\n",
    "- Ensure that \"Claude Opus 4.1\" is the model indicated in the bottom right of the box\n",
    "\n",
    "#### Removing access to the A2AJ MCP\n",
    " \n",
    "- Return to new chat\n",
    "- Select the \"Tools and Search\" icon\n",
    "- Select \"Manage connectors\"\n",
    "- Click on the 3 dots next to the A2AJ connector\n",
    "- Select \"Remove\"\n",
    "\n",
    "#### Example Q&A\n",
    "\n",
    "Question: What does the Ontario Court of Appeal have to say about personal use evictions?\n",
    "\n",
    "Answer: https://claude.ai/share/a420c3f2-bc65-483e-bb13-2ddf747aa64e\n",
    "\n",
    "\n",
    "\n"
   ]
  },
  {
   "cell_type": "markdown",
   "id": "f3ddf651",
   "metadata": {},
   "source": []
  }
 ],
 "metadata": {
  "kernelspec": {
   "display_name": ".venv",
   "language": "python",
   "name": "python3"
  },
  "language_info": {
   "codemirror_mode": {
    "name": "ipython",
    "version": 3
   },
   "file_extension": ".py",
   "mimetype": "text/x-python",
   "name": "python",
   "nbconvert_exporter": "python",
   "pygments_lexer": "ipython3",
   "version": "3.12.3"
  }
 },
 "nbformat": 4,
 "nbformat_minor": 5
}
